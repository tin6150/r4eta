{
 "cells": [
  {
   "cell_type": "code",
   "execution_count": 2,
   "id": "ba930e20",
   "metadata": {},
   "outputs": [
    {
     "name": "stdout",
     "output_type": "stream",
     "text": [
      "hello world pyhon jupyther notebook on wsl wombat 2023-02\n"
     ]
    }
   ],
   "source": [
    "print(\"hello world pyhon jupyther notebook on wsl wombat 2023-02\")"
   ]
  },
  {
   "cell_type": "code",
   "execution_count": null,
   "id": "9ae17267",
   "metadata": {},
   "outputs": [],
   "source": [
    "# file is stored in dir where jupyter notebook was started (eg ~/Download for this case)\n",
    "# also need to install R kernel\n",
    "# took a long time to connect... not sure why."
   ]
  }
 ],
 "metadata": {
  "kernelspec": {
   "display_name": "Python 3 (ipykernel)",
   "language": "python",
   "name": "python3"
  },
  "language_info": {
   "codemirror_mode": {
    "name": "ipython",
    "version": 3
   },
   "file_extension": ".py",
   "mimetype": "text/x-python",
   "name": "python",
   "nbconvert_exporter": "python",
   "pygments_lexer": "ipython3",
   "version": "3.10.9"
  }
 },
 "nbformat": 4,
 "nbformat_minor": 5
}
